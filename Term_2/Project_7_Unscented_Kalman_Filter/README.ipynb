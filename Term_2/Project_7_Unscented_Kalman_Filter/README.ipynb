{
 "cells": [
  {
   "cell_type": "markdown",
   "metadata": {},
   "source": [
    "# Unscented Kalman Filter Project README"
   ]
  },
  {
   "cell_type": "markdown",
   "metadata": {},
   "source": [
    "In this project utilize an Unscented Kalman Filter to estimate the state of a moving object of interest with noisy lidar and radar measurements. Passing the project requires obtaining RMSE values that are lower that the tolerance outlined in the project reburic. \n",
    "\n",
    "This project involves the Term 2 Simulator which can be downloaded [here](https://github.com/udacity/self-driving-car-sim/releases)\n",
    "\n",
    "This repository includes two files that can be used to set up and intall [uWebSocketIO](https://github.com/uWebSockets/uWebSockets) for either Linux or Mac systems. For windows you can use either Docker, VMware, or even [Windows 10 Bash on Ubuntu](https://www.howtogeek.com/249966/how-to-install-and-use-the-linux-bash-shell-on-windows-10/) to install uWebSocketIO. Please see [this concept in the classroom](https://classroom.udacity.com/nanodegrees/nd013/parts/40f38239-66b6-46ec-ae68-03afd8a601c8/modules/0949fca6-b379-42af-a919-ee50aa304e6a/lessons/f758c44c-5e40-4e01-93b5-1a82aa4e044f/concepts/16cf4a78-4fc7-49e1-8621-3450ca938b77) for the required version and installation scripts.\n",
    "\n",
    "Once the install for uWebSocketIO is complete, the main program can be built and ran by doing the following from the project top directory.\n",
    "\n",
    "1. mkdir build\n",
    "2. cd build\n",
    "3. cmake ..\n",
    "4. make\n",
    "5. ./UnscentedKF\n",
    "\n",
    "Note that the programs that need to be written to accomplish the project are src/ukf.cpp, src/ukf.h, tools.cpp, and tools.h\n",
    "\n",
    "The program main.cpp has already been filled out, but feel free to modify it.\n",
    "\n",
    "Here is the main protcol that main.cpp uses for uWebSocketIO in communicating with the simulator.\n",
    "\n",
    "\n",
    "INPUT: values provided by the simulator to the c++ program\n",
    "\n",
    "[\"sensor_measurement\"] => the measurment that the simulator observed (either lidar or radar)\n",
    "\n",
    "\n",
    "OUTPUT: values provided by the c++ program to the simulator\n",
    "\n",
    "[\"estimate_x\"] <= kalman filter estimated position x\n",
    "[\"estimate_y\"] <= kalman filter estimated position y\n",
    "[\"rmse_x\"]\n",
    "[\"rmse_y\"]\n",
    "[\"rmse_vx\"]\n",
    "[\"rmse_vy\"]\n",
    "\n",
    "---\n",
    "\n",
    "## Other Important Dependencies\n",
    "* cmake >= 3.5\n",
    "  * All OSes: [click here for installation instructions](https://cmake.org/install/)\n",
    "* make >= 4.1 (Linux, Mac), 3.81 (Windows)\n",
    "  * Linux: make is installed by default on most Linux distros\n",
    "  * Mac: [install Xcode command line tools to get make](https://developer.apple.com/xcode/features/)\n",
    "  * Windows: [Click here for installation instructions](http://gnuwin32.sourceforge.net/packages/make.htm)\n",
    "* gcc/g++ >= 5.4\n",
    "  * Linux: gcc / g++ is installed by default on most Linux distros\n",
    "  * Mac: same deal as make - [install Xcode command line tools](https://developer.apple.com/xcode/features/)\n",
    "  * Windows: recommend using [MinGW](http://www.mingw.org/)\n",
    "\n",
    "## Basic Build Instructions\n",
    "\n",
    "1. Clone this repo.\n",
    "2. Make a build directory: `mkdir build && cd build`\n",
    "3. Compile: `cmake .. && make`\n",
    "4. Run it: `./UnscentedKF` Previous versions use i/o from text files.  The current state uses i/o\n",
    "from the simulator.\n",
    "\n",
    "## Editor Settings\n",
    "\n",
    "We've purposefully kept editor configuration files out of this repo in order to\n",
    "keep it as simple and environment agnostic as possible. However, we recommend\n",
    "using the following settings:\n",
    "\n",
    "* indent using spaces\n",
    "* set tab width to 2 spaces (keeps the matrices in source code aligned)\n"
   ]
  },
  {
   "cell_type": "markdown",
   "metadata": {},
   "source": [
    "### Process Noise Tuning Results"
   ]
  },
  {
   "cell_type": "markdown",
   "metadata": {},
   "source": [
    "Configuration || RMSE|\n",
    "------------------ | -------------\n",
    "longitudinal accele. noise | yaw accele. noise|Px|Py|Vx|Vy\n",
    "0.2|0.2 | 0.0747|0.0989|0.3427|0.2568|\n",
    "0.4|0.4 | 0.0614|0.0854|0.3197|0.2312|\n",
    "0.5|0.5 | 0.0612|0.0836|0.3176|0.2292|\n",
    "0.5|0.6 | 0.0606|0.0841|0.3174|0.2298|\n",
    "0.6|0.5 | 0.0624|0.0823|0.3175|0.2291|\n",
    "0.6|0.6 | 0.0618|0.0827|0.3172|0.2295|\n",
    "1.0|1.0 | 0.0647|0.0823|0.3224|0.2396|"
   ]
  },
  {
   "cell_type": "markdown",
   "metadata": {},
   "source": [
    "It seems that as long as a reasonable range is chosen for longitudinal and yaw acceleration noise for a typical bicycle , say between 0.2  and 1.0 m s^-2 or rad s^-2, it is quite straightforward to meet the RMSE requirement which stipulates RMSE <= [.09, .10, .40, .30]"
   ]
  },
  {
   "cell_type": "markdown",
   "metadata": {},
   "source": [
    " * __Feel free to use any set of values for your longitudinal and yaw acceleration noise__"
   ]
  }
 ],
 "metadata": {
  "kernelspec": {
   "display_name": "Python 3",
   "language": "python",
   "name": "python3"
  },
  "language_info": {
   "codemirror_mode": {
    "name": "ipython",
    "version": 3
   },
   "file_extension": ".py",
   "mimetype": "text/x-python",
   "name": "python",
   "nbconvert_exporter": "python",
   "pygments_lexer": "ipython3",
   "version": "3.6.2"
  }
 },
 "nbformat": 4,
 "nbformat_minor": 2
}
