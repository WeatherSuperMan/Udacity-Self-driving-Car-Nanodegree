{
 "cells": [
  {
   "cell_type": "markdown",
   "metadata": {},
   "source": [
    "# Project 4: Advanced Lane Finding"
   ]
  },
  {
   "cell_type": "markdown",
   "metadata": {
    "collapsed": true
   },
   "source": [
    "#### Importing all necessary libaries"
   ]
  },
  {
   "cell_type": "code",
   "execution_count": 1,
   "metadata": {
    "collapsed": true
   },
   "outputs": [],
   "source": [
    "### Import libaries\n",
    "import numpy as np\n",
    "import cv2\n",
    "import glob\n",
    "import matplotlib.pyplot as plt\n",
    "import matplotlib.image as mpimg\n",
    "import pickle\n",
    "import time\n",
    "import background as bg  # import background.py\n",
    "from IPython.display import HTML\n",
    "%matplotlib inline"
   ]
  },
  {
   "cell_type": "markdown",
   "metadata": {},
   "source": [
    "### Camera Calibration\n",
    "\n",
    "\n",
    "#### 1. Briefly state how you computed the camera matrix and distortion coefficients. Provide an example of a distortion corrected calibration image."
   ]
  },
  {
   "cell_type": "markdown",
   "metadata": {
    "collapsed": true
   },
   "source": [
    "I start by preparing \"object points\", which will be the (x, y, z) coordinates of the chessboard corners in the world. Here I am assuming the chessboard is fixed on the (x, y) plane at z=0, such that the object points are the same for each calibration image.  Thus, `objp` is just a replicated array of coordinates, and `objpoints` will be appended with a copy of it every time I successfully detect all chessboard corners in a test image.  `imgpoints` will be appended with the (x, y) pixel position of each of the corners in the image plane with each successful chessboard detection.  \n",
    "\n",
    "I then used the output `objpoints` and `imgpoints` to compute the camera calibration and distortion coefficients using the `cv2.calibrateCamera()` function.  I applied this distortion correction to the test images using the `cv2.undistort()` function and obtained these results:"
   ]
  },
  {
   "cell_type": "code",
   "execution_count": null,
   "metadata": {
    "collapsed": true
   },
   "outputs": [],
   "source": [
    "### Chessboard Corners\n",
    "# Prepare object points\n",
    "nx = 9\n",
    "ny = 6\n",
    "objp = np.zeros((nx*ny,3), np.float32)\n",
    "objp[:,:2] = np.mgrid[0:nx, 0:ny].T.reshape(-1,2)\n",
    "\n",
    "# Object points and Image points from all the images.\n",
    "objpoints = [] # 3d points in real world space\n",
    "imgpoints = [] # 2d points in image plane.\n",
    "chessboard_corners = []\n",
    "\n",
    "images = glob.glob('camera_cal/calibration*.jpg')\n",
    "\n",
    "for fname in images:\n",
    "    image = mpimg.imread(fname)\n",
    "    gray = cv2.cvtColor(image, cv2.COLOR_RGB2GRAY)\n",
    "    # Find chessboard corners\n",
    "    ret, corners = cv2.findChessboardCorners(gray, (nx,ny), None)\n",
    "    \n",
    "    # If found, add object points, image points\n",
    "    if ret == True:        \n",
    "        objpoints.append(objp)\n",
    "        imgpoints.append(corners)\n",
    "        # Draw and display the corners\n",
    "        chessboard_corners.append(cv2.drawChessboardCorners(image, (nx,ny), corners, ret))\n",
    "    else:\n",
    "        chessboard_corners.append(image)"
   ]
  },
  {
   "cell_type": "markdown",
   "metadata": {},
   "source": [
    "#### Plots all images, only the ones with the correct grid sizes have corners drawn on them."
   ]
  },
  {
   "cell_type": "code",
   "execution_count": null,
   "metadata": {},
   "outputs": [],
   "source": [
    "# Create subplots in figure\n",
    "fig = plt.figure(figsize=(20, 15))\n",
    "for i in range(1,len(chessboard_corners)+1):\n",
    "    fig.add_subplot(5,4,i)\n",
    "    fig.tight_layout()\n",
    "    plt.imshow(chessboard_corners[i-1])\n",
    "    plt.axis('off')\n",
    "plt.show()"
   ]
  },
  {
   "cell_type": "markdown",
   "metadata": {},
   "source": [
    "#### apply the camera calibration a selected image."
   ]
  },
  {
   "cell_type": "code",
   "execution_count": null,
   "metadata": {},
   "outputs": [],
   "source": [
    "# Camera Calibration\n",
    "img = mpimg.imread('camera_cal/calibration3.jpg')\n",
    "img_size = (img.shape[1], img.shape[0])\n",
    "# Calibrate Camera\n",
    "ret, camera_mtx, camera_dist, rvecs, tvecs = cv2.calibrateCamera(objpoints, imgpoints, img_size, None, None)\n",
    "# Undistort Test Image\n",
    "undistort_image = cv2.undistort(img, camera_mtx, camera_dist, None, camera_mtx)\n",
    "bg.disp_img(img, undistort_image)"
   ]
  },
  {
   "cell_type": "code",
   "execution_count": null,
   "metadata": {},
   "outputs": [],
   "source": [
    "# save and Load Camera Calibration Pickle Data\n",
    "bg.save()\n",
    "bg.load()"
   ]
  },
  {
   "cell_type": "markdown",
   "metadata": {},
   "source": [
    "### Pipeline (single images)"
   ]
  },
  {
   "cell_type": "markdown",
   "metadata": {},
   "source": [
    "#### 1. Provide an example of a distortion-corrected image."
   ]
  },
  {
   "cell_type": "markdown",
   "metadata": {},
   "source": [
    "To demonstrate this step, I will describe how I apply the distortion correction to one of the test images like this one:\n",
    "\n",
    "* Firstly, I load the image\n",
    "* Secondly, I apply a function to undistort the original image. The function is defined in background.py\n",
    "\n",
    "It is clearly that there are noticeable differences between the undistorted and corrected images, especially at the edges."
   ]
  },
  {
   "cell_type": "code",
   "execution_count": null,
   "metadata": {},
   "outputs": [],
   "source": [
    "image = mpimg.imread('test_images/straight_lines1.jpg')\n",
    "undistorted, src_corners, dst_corners = bg.undistort_img(image)\n",
    "bg.disp_img(image, undistorted)"
   ]
  },
  {
   "cell_type": "markdown",
   "metadata": {},
   "source": [
    "#### 2. Describe how (and identify where in your code) you used color transforms, gradients or other methods to create a thresholded binary image.  Provide an example of a binary image result."
   ]
  },
  {
   "cell_type": "markdown",
   "metadata": {},
   "source": [
    "Please refer to color_threshold function in background.py file for details on how I transformed the undistorted image into a binary image. These are the steps I took:\n",
    "\n",
    "* Firstly, I defined a gradient threshold and a color threshold for sobel operators and HLS colour space.\n",
    "* Then, I created a gradient binary (sxbinary) and a threshold colour channel (s_binary)\n",
    "* Finally, I combined them together to form a new binary image that combined the best of both worlds."
   ]
  },
  {
   "cell_type": "code",
   "execution_count": null,
   "metadata": {},
   "outputs": [],
   "source": [
    "threshold_image = bg.color_threshold(undistorted)\n",
    "bg.disp_img(undistorted, threshold_image)\n"
   ]
  },
  {
   "cell_type": "markdown",
   "metadata": {},
   "source": [
    "#### 3. Describe how (and identify where in your code) you performed a perspective transform and provide an example of a transformed image."
   ]
  },
  {
   "cell_type": "markdown",
   "metadata": {},
   "source": [
    "Please refer to perspective_transform() located in background.py for details on the components of the function.\n",
    "\n",
    "What I did:\n",
    "\n",
    "* Undistorting the vanilla image.\n",
    "* getting the information about the image size.\n",
    "* leveraging cv2.getPerspectiveTransform to obtain M, the persepctive transform matrix using the previously defined source points and destination points.\n",
    "* perform the perspective transform using cv2.warpPerspective function.\n",
    "* The output of perspective_transform function will be the warped image and the inverse perspective transform matrix which will be used later to perform draw lane areas on vanilla images."
   ]
  },
  {
   "cell_type": "code",
   "execution_count": null,
   "metadata": {},
   "outputs": [],
   "source": [
    "warped_original, M_Inv = bg.perspective_transform(image)\n",
    "bg.disp_img(image, warped_original)"
   ]
  },
  {
   "cell_type": "code",
   "execution_count": null,
   "metadata": {},
   "outputs": [],
   "source": [
    "warped_image, M_Inv = bg.perspective_transform(threshold_image)\n",
    "bg.disp_img(threshold_image, warped_image)"
   ]
  },
  {
   "cell_type": "markdown",
   "metadata": {},
   "source": [
    "#### 4. Describe how (and identify where in your code) you identified lane-line pixels and fit their positions with a polynomial?"
   ]
  },
  {
   "cell_type": "markdown",
   "metadata": {},
   "source": [
    "* First of all, in background.py, the line_coordinates() function calculated the histogram of 10 equally sized sections of the thresholded image. For each section I identify the histogram peaks and the corresponding coordinates while filtering out noises. \n",
    "\n",
    "* The indices obtained above were then used to implement a sliding window technique in which each window was utilized to identify which pixels are parts of the lane lines, and the pixel coordinates were then stored in variables associated with each lane. \n",
    "\n",
    "* In identify_lane()function, the pixel coordinates obtained above are used to fit a 2nd order polynomial (using `numpy's polyfit` funtion) to obtain the left and right lane lines. These lane lines are then extrapolated based on the image dimensions. \n",
    "For a clip of video, up to 20 frames were saved (using global variables) and averaged over, to replace the right lane line in any frame where there were very few lane points being detected. \n",
    "\n",
    "* The `draw_lane_line()` function drew the lane lines and filled the lane area using OpenCV's `polylines()` and `fillPoly()` functions on top of a blank image.\n",
    "This image was then unwarped using OpenCV's `warpPerspective()` function. The output of this is shown in the 6th step below."
   ]
  },
  {
   "cell_type": "code",
   "execution_count": null,
   "metadata": {},
   "outputs": [],
   "source": [
    "left_lane_idx, right_lane_idx = bg.lane_coordinates(warped_image)\n",
    "image_lane_point = bg.draw_lane_points(warped_image,left_lane_idx, right_lane_idx)\n",
    "bg.disp_img(warped_image, image_lane_point)"
   ]
  },
  {
   "cell_type": "code",
   "execution_count": null,
   "metadata": {},
   "outputs": [],
   "source": [
    "img_size = [image.shape[1], image.shape[0]]\n",
    "left_lane_y, right_lane_y, left_fit_x, right_fit_x, left_fit, right_fit = bg.identify_lane(left_lane_idx,\n",
    "                                                                                           right_lane_idx, img_size)\n",
    "out_img = bg.draw_curved_line(image_lane_point, right_fit)\n",
    "out_img_2 = bg.draw_curved_line(out_img,left_fit )\n",
    "bg.disp_img(warped_image,out_img)"
   ]
  },
  {
   "cell_type": "markdown",
   "metadata": {},
   "source": [
    "#### 5. Describe how (and identify where in your code) you calculated the radius of curvature of the lane and the position of the vehicle with respect to center."
   ]
  },
  {
   "cell_type": "markdown",
   "metadata": {},
   "source": [
    "The radius of curvature and the position of vehicle are implemented in the functions `lane_curvature()` and `distance_from_lane()` as defined in `background.py`.\n",
    "\n",
    "Unit conversions:\n",
    "\n",
    "`xm_per_pix = 3.7/700 # metres per pixel in x dimension`\n",
    "\n",
    "`ym_per_pix = 30/720 # metres per pixel in y dimension`\n",
    "\n",
    "\n",
    "\n",
    "A 2nd order polynomial is then fit to the lane pixels converted to meters.\n",
    "\n",
    "`curvature = ((1 + (2*new_fit[0]*y_eval + new_fit[1])**2)**1.5)/np.absolute(2*new_fit[0])`\n",
    "\n",
    "To calculate the distance of the car from the middle of the lane, the average x coordinates of the two lane lines are calculated (using the bottommost points of the lanes)before the ximage center is subtracted. The result times `xm_per_pix` equals how much the car deviated from the dead centre of the current lane.\n",
    "\n",
    "`car_position = ((left_lane[-1] + right_lane[-1])//2 - img_center[0]) * xm_per_pix`\n",
    "\n",
    "The above values are then displayed as text on every video frame in the `draw_lane_line()` function using OpenCV's `putText()` function."
   ]
  },
  {
   "cell_type": "markdown",
   "metadata": {
    "collapsed": true
   },
   "source": [
    "#### 6. Provide an example image of your result plotted back down onto the road such that the lane area is identified clearly."
   ]
  },
  {
   "cell_type": "code",
   "execution_count": null,
   "metadata": {},
   "outputs": [],
   "source": [
    "img = mpimg.imread('test_images/test1.jpg')\n",
    "final_img = bg.pipeline(img)\n",
    "bg.disp_img(img, final_img)"
   ]
  },
  {
   "cell_type": "code",
   "execution_count": null,
   "metadata": {},
   "outputs": [],
   "source": [
    "img = mpimg.imread('test_images/test2.jpg')\n",
    "final_img = bg.pipeline(img)\n",
    "bg.disp_img(img, final_img)"
   ]
  },
  {
   "cell_type": "code",
   "execution_count": null,
   "metadata": {},
   "outputs": [],
   "source": [
    "img = mpimg.imread('test_images/test3.jpg')\n",
    "final_img = bg.pipeline(img)\n",
    "bg.disp_img(img, final_img)"
   ]
  },
  {
   "cell_type": "markdown",
   "metadata": {},
   "source": [
    "### Creating videos"
   ]
  },
  {
   "cell_type": "code",
   "execution_count": null,
   "metadata": {},
   "outputs": [],
   "source": [
    "bg.make_video(video_path = \"input_videos/project_video.mp4\", file_out = \"output_videos/project_output.mp4\")"
   ]
  },
  {
   "cell_type": "markdown",
   "metadata": {},
   "source": [
    "### Discussion"
   ]
  },
  {
   "cell_type": "markdown",
   "metadata": {},
   "source": [
    "There is no doubt that my pipeline is flawed in a number of ways: Here are some of the observations\n",
    "\n",
    "* The video pipeline seems to work best when lane lines are solid (yellow lane line on the left-hand side) and its performance deteriorates significantly when broken lane lines are present (white lane line).\n",
    "* The ambient lighting indicated in the input video seems to play an overarching role in the final quality of the lane marking drawn. Poor lighting when tree shadows, overpasses, unfavrouable weather can all wreak havoc on the final output quality, in some cases, rendering the pipeline useless.\n",
    "* When lane lines become badly worn, my model was not even able to detect them at all in some cases, this issue is present in challenge video.\n",
    "* When the value of the curvature is high as in harder challenge video where corners are short and sharp, the lane detection failed miserably once again."
   ]
  },
  {
   "cell_type": "markdown",
   "metadata": {},
   "source": [
    "There are several ways to make this more robust -\n",
    "* A better Class structure for each Lane Line to help keep track of previous N frames.\n",
    "* Better tuning for gradient based thresholding, exploring different colorspaces.\n",
    "* We can attempt better tuning techniques for gradient based thresholds and a variety of colour spaces can also be trialed.\n",
    "* Improved perspective transform by not hardcoding the source and destination points. One option is to use hough's transform to identify lanes in a test image and use their end points."
   ]
  },
  {
   "cell_type": "code",
   "execution_count": 2,
   "metadata": {
    "collapsed": true
   },
   "outputs": [],
   "source": [
    "x = [[1,2,3],\n",
    "     [4,5,6],\n",
    "     [7,8,9]]"
   ]
  },
  {
   "cell_type": "code",
   "execution_count": 3,
   "metadata": {},
   "outputs": [
    {
     "data": {
      "text/plain": [
       "[[1, 2, 3], [4, 5, 6], [7, 8, 9]]"
      ]
     },
     "execution_count": 3,
     "metadata": {},
     "output_type": "execute_result"
    }
   ],
   "source": [
    "x"
   ]
  },
  {
   "cell_type": "code",
   "execution_count": 4,
   "metadata": {
    "collapsed": true
   },
   "outputs": [],
   "source": [
    "x = np.array(x)"
   ]
  },
  {
   "cell_type": "code",
   "execution_count": 5,
   "metadata": {},
   "outputs": [
    {
     "data": {
      "text/plain": [
       "array([[1, 2, 3],\n",
       "       [4, 5, 6],\n",
       "       [7, 8, 9]])"
      ]
     },
     "execution_count": 5,
     "metadata": {},
     "output_type": "execute_result"
    }
   ],
   "source": [
    "x"
   ]
  },
  {
   "cell_type": "code",
   "execution_count": 6,
   "metadata": {},
   "outputs": [],
   "source": [
    "nonzero= x.nonzero()"
   ]
  },
  {
   "cell_type": "code",
   "execution_count": 7,
   "metadata": {},
   "outputs": [
    {
     "data": {
      "text/plain": [
       "(array([0, 0, 0, 1, 1, 1, 2, 2, 2], dtype=int64),\n",
       " array([0, 1, 2, 0, 1, 2, 0, 1, 2], dtype=int64))"
      ]
     },
     "execution_count": 7,
     "metadata": {},
     "output_type": "execute_result"
    }
   ],
   "source": [
    "nonzero"
   ]
  },
  {
   "cell_type": "code",
   "execution_count": 8,
   "metadata": {
    "collapsed": true
   },
   "outputs": [],
   "source": [
    "nonzeroy=np.array(nonzero[0])"
   ]
  },
  {
   "cell_type": "code",
   "execution_count": 9,
   "metadata": {},
   "outputs": [
    {
     "data": {
      "text/plain": [
       "array([0, 0, 0, 1, 1, 1, 2, 2, 2], dtype=int64)"
      ]
     },
     "execution_count": 9,
     "metadata": {},
     "output_type": "execute_result"
    }
   ],
   "source": [
    "nonzeroy"
   ]
  },
  {
   "cell_type": "code",
   "execution_count": 20,
   "metadata": {
    "collapsed": true
   },
   "outputs": [],
   "source": [
    "nonzerox=np.array(nonzero[1])"
   ]
  },
  {
   "cell_type": "code",
   "execution_count": 21,
   "metadata": {},
   "outputs": [
    {
     "data": {
      "text/plain": [
       "array([0, 1, 2, 0, 1, 2, 0, 1, 2], dtype=int64)"
      ]
     },
     "execution_count": 21,
     "metadata": {},
     "output_type": "execute_result"
    }
   ],
   "source": [
    "nonzerox"
   ]
  },
  {
   "cell_type": "code",
   "execution_count": 39,
   "metadata": {
    "collapsed": true
   },
   "outputs": [],
   "source": [
    "good=((nonzeroy<1)&(nonzerox>0))"
   ]
  },
  {
   "cell_type": "code",
   "execution_count": 40,
   "metadata": {},
   "outputs": [
    {
     "data": {
      "text/plain": [
       "array([False,  True,  True, False, False, False, False, False, False], dtype=bool)"
      ]
     },
     "execution_count": 40,
     "metadata": {},
     "output_type": "execute_result"
    }
   ],
   "source": [
    "good"
   ]
  },
  {
   "cell_type": "code",
   "execution_count": 45,
   "metadata": {},
   "outputs": [],
   "source": [
    "good=((nonzeroy<1)&(nonzerox>0)).nonzero()"
   ]
  },
  {
   "cell_type": "code",
   "execution_count": 46,
   "metadata": {},
   "outputs": [
    {
     "data": {
      "text/plain": [
       "(array([1, 2], dtype=int64),)"
      ]
     },
     "execution_count": 46,
     "metadata": {},
     "output_type": "execute_result"
    }
   ],
   "source": [
    "good"
   ]
  },
  {
   "cell_type": "code",
   "execution_count": 43,
   "metadata": {
    "collapsed": true
   },
   "outputs": [],
   "source": [
    "good=((nonzeroy<1)&(nonzerox>0)).nonzero()[0]"
   ]
  },
  {
   "cell_type": "code",
   "execution_count": 44,
   "metadata": {},
   "outputs": [
    {
     "data": {
      "text/plain": [
       "array([0], dtype=int64)"
      ]
     },
     "execution_count": 44,
     "metadata": {},
     "output_type": "execute_result"
    }
   ],
   "source": [
    "good"
   ]
  },
  {
   "cell_type": "code",
   "execution_count": 30,
   "metadata": {
    "collapsed": true
   },
   "outputs": [],
   "source": [
    "a=[]"
   ]
  },
  {
   "cell_type": "code",
   "execution_count": 31,
   "metadata": {
    "collapsed": true
   },
   "outputs": [],
   "source": [
    "a.append(good)"
   ]
  },
  {
   "cell_type": "code",
   "execution_count": 32,
   "metadata": {},
   "outputs": [
    {
     "data": {
      "text/plain": [
       "[array([0], dtype=int64)]"
      ]
     },
     "execution_count": 32,
     "metadata": {},
     "output_type": "execute_result"
    }
   ],
   "source": [
    "a"
   ]
  },
  {
   "cell_type": "code",
   "execution_count": 33,
   "metadata": {
    "collapsed": true
   },
   "outputs": [],
   "source": [
    "a.append(good)"
   ]
  },
  {
   "cell_type": "code",
   "execution_count": 34,
   "metadata": {},
   "outputs": [
    {
     "data": {
      "text/plain": [
       "[array([0], dtype=int64), array([0], dtype=int64)]"
      ]
     },
     "execution_count": 34,
     "metadata": {},
     "output_type": "execute_result"
    }
   ],
   "source": [
    "a"
   ]
  },
  {
   "cell_type": "code",
   "execution_count": 38,
   "metadata": {},
   "outputs": [
    {
     "data": {
      "text/plain": [
       "0"
      ]
     },
     "execution_count": 38,
     "metadata": {},
     "output_type": "execute_result"
    }
   ],
   "source": [
    "a[1][0]"
   ]
  },
  {
   "cell_type": "code",
   "execution_count": null,
   "metadata": {
    "collapsed": true
   },
   "outputs": [],
   "source": []
  }
 ],
 "metadata": {
  "anaconda-cloud": {},
  "kernelspec": {
   "display_name": "Python [default]",
   "language": "python",
   "name": "python3"
  },
  "language_info": {
   "codemirror_mode": {
    "name": "ipython",
    "version": 3
   },
   "file_extension": ".py",
   "mimetype": "text/x-python",
   "name": "python",
   "nbconvert_exporter": "python",
   "pygments_lexer": "ipython3",
   "version": "3.5.3"
  },
  "widgets": {
   "state": {},
   "version": "1.1.2"
  }
 },
 "nbformat": 4,
 "nbformat_minor": 1
}
