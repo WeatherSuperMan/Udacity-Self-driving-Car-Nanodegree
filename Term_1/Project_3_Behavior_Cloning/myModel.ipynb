{
 "cells": [
  {
   "cell_type": "markdown",
   "metadata": {},
   "source": [
    "### Importing All necessary libraries"
   ]
  },
  {
   "cell_type": "code",
   "execution_count": 1,
   "metadata": {},
   "outputs": [
    {
     "name": "stderr",
     "output_type": "stream",
     "text": [
      "Using TensorFlow backend.\n"
     ]
    }
   ],
   "source": [
    "import os\n",
    "import csv\n",
    "import cv2\n",
    "import sklearn\n",
    "import numpy as np\n",
    "import pandas as pd\n",
    "import matplotlib.pyplot as plt\n",
    "import matplotlib.image as mpimg\n",
    "\n",
    "from keras.models import Sequential, Model, model_from_json\n",
    "from keras.layers import Activation, Dense, Dropout, ELU, Flatten, Lambda, SpatialDropout2D\n",
    "from keras.layers import Convolution2D, Cropping2D\n",
    "from keras.layers.pooling import MaxPooling2D\n",
    "from keras.optimizers import SGD, Adam, RMSprop\n",
    "from keras.utils import np_utils\n",
    "from keras.callbacks import ModelCheckpoint\n",
    "\n",
    "from sklearn.utils import shuffle\n",
    "from sklearn.model_selection import train_test_split"
   ]
  },
  {
   "cell_type": "markdown",
   "metadata": {},
   "source": [
    "### Define Data structures and functions"
   ]
  },
  {
   "cell_type": "code",
   "execution_count": 2,
   "metadata": {
    "collapsed": true
   },
   "outputs": [],
   "source": [
    "raw_samples =   []\n",
    "car_images =    []\n",
    "steering_angles=[]\n"
   ]
  },
  {
   "cell_type": "markdown",
   "metadata": {},
   "source": [
    "#### defining image properties"
   ]
  },
  {
   "cell_type": "code",
   "execution_count": 3,
   "metadata": {
    "collapsed": true
   },
   "outputs": [],
   "source": [
    "# define the input size\n",
    "height = 160\n",
    "width = 320\n",
    "depth = 3\n",
    "\n",
    "# define how images should be cropped\n",
    "reduction_upper = 70\n",
    "reduction_lower = 25\n",
    "reduction_left  = 0\n",
    "reduction_right = 0\n",
    "\n",
    "# specify the batch size and training epochs\n",
    "batch_size = 32\n",
    "epochs = 20"
   ]
  },
  {
   "cell_type": "markdown",
   "metadata": {},
   "source": [
    "#### File-importing function"
   ]
  },
  {
   "cell_type": "code",
   "execution_count": 4,
   "metadata": {
    "collapsed": true
   },
   "outputs": [],
   "source": [
    "def import_samples(csv_filepath, samples):\n",
    "    with open(csv_filepath) as csvfile:\n",
    "        reader = csv.reader(csvfile)\n",
    "        for line in reader:\n",
    "            samples.append(line)\n",
    "      \n",
    "        # samples = samples[1:] # headers removal  \n",
    "        print(\"Total number of samples right now = \", len(samples))\n",
    "   \n",
    "    return samples"
   ]
  },
  {
   "cell_type": "markdown",
   "metadata": {},
   "source": [
    "#### Augmentation Function"
   ]
  },
  {
   "cell_type": "code",
   "execution_count": 5,
   "metadata": {
    "collapsed": true
   },
   "outputs": [],
   "source": [
    "def augmentation(image_path, angle_single):\n",
    "    \n",
    "    image_single = cv2.imread(image_path)   \n",
    "    image_flip = np.fliplr(image_single)    \n",
    "    angle_negative = (-1.0)*angle_single\n",
    "\n",
    "    return image_flip, angle_negative  \n",
    "     "
   ]
  },
  {
   "cell_type": "markdown",
   "metadata": {},
   "source": [
    "#### create the generator function"
   ]
  },
  {
   "cell_type": "code",
   "execution_count": 6,
   "metadata": {
    "collapsed": true
   },
   "outputs": [],
   "source": [
    "def generator(samples, batch_size):\n",
    "    \n",
    "    no_samples = len(samples)\n",
    "    \n",
    "    while 1:\n",
    "        shuffle(samples)\n",
    "        \n",
    "        # loop through each batch of data\n",
    "        for sample_pos in range(0, no_samples, batch_size):\n",
    "            sample_batches = samples[sample_pos:sample_pos + batch_size]\n",
    "            \n",
    "            center_images = []\n",
    "            center_angles = []\n",
    "            left_images = []\n",
    "            left_angles = []\n",
    "            right_images=[]\n",
    "            right_angles=[]\n",
    "            correction = 0.25   # define the steering correction for left and right cameras.\n",
    "            \n",
    "            \n",
    "            # loop through every single record within a batch of data\n",
    "            for sample_no in sample_batches:     \n",
    "                \n",
    "                source_path_A = sample_no[0]   # specify the path for images taken by central camera.\n",
    "                center_angle_single = float(sample_no[3])\n",
    "                center_image_single_flip, angle_negative_center = augmentation(source_path_A,center_angle_single)\n",
    "                center_image_single = cv2.imread(source_path_A)\n",
    "                center_images.append(center_image_single)\n",
    "                center_angles.append(center_angle_single)\n",
    "                center_images.append(center_image_single_flip)\n",
    "                center_angles.append(angle_negative_center)\n",
    "#_____________________________________________________________________________________________________________________                \n",
    "     \n",
    "                source_path_B = sample_no[1]   # specify the path for images taken by left camera.        \n",
    "                left_angle_single = float(sample_no[3])+correction\n",
    "                left_image_single_flip, angle_negative_left = augmentation(source_path_B,left_angle_single)\n",
    "                left_image_single = cv2.imread(source_path_B)                         \n",
    "                center_images.append(left_image_single)\n",
    "                center_angles.append(left_angle_single)\n",
    "                center_images.append(left_image_single_flip)\n",
    "                center_angles.append(angle_negative_left)\n",
    "#_____________________________________________________________________________________________________________________                  \n",
    "       \n",
    "                source_path_C = sample_no[2]  # specify the path for images taken by right camera.\n",
    "                right_angle_single = float(sample_no[3])-correction                \n",
    "                right_image_single_flip, angle_negative_right = augmentation(source_path_C,right_angle_single)               \n",
    "                right_image_single = cv2.imread(source_path_C)            \n",
    "                center_images.append(right_image_single)\n",
    "                center_angles.append(right_angle_single)\n",
    "                center_images.append(right_image_single_flip)\n",
    "                center_angles.append(angle_negative_right)\n",
    "#_____________________________________________________________________________________________________________________  \n",
    "       \n",
    "            X_train = np.array(center_images)\n",
    "            y_train = np.array(center_angles)\n",
    "             \n",
    "            yield shuffle(X_train, y_train)\n",
    "                    \n",
    "                                "
   ]
  },
  {
   "cell_type": "code",
   "execution_count": 7,
   "metadata": {},
   "outputs": [
    {
     "name": "stdout",
     "output_type": "stream",
     "text": [
      "Total number of samples right now =  12314\n",
      "Total number of samples right now =  17060\n",
      "Total number of samples right now =  22615\n",
      "Total number of samples right now =  38355\n",
      "Total number of samples right now =  77049\n"
     ]
    }
   ],
   "source": [
    "# extracting data from CSV files\n",
    "current_sample = import_samples('E:/DrivingDataTrackA/driving_log.csv', raw_samples)\n",
    "current_sample = import_samples('E:/DrivingDataTrackA_enhanced/driving_log.csv', current_sample)\n",
    "current_sample = import_samples('E:/DrivingDataTrackA_Recovery/driving_log.csv', current_sample)\n",
    "current_sample = import_samples('E:/DrivingDataTrackB/driving_log.csv', current_sample)\n",
    "current_sample = import_samples('E:/DrivingData/driving_log.csv', current_sample)"
   ]
  },
  {
   "cell_type": "code",
   "execution_count": 8,
   "metadata": {
    "collapsed": true
   },
   "outputs": [],
   "source": [
    "# train-validation split\n",
    "train_samples, valid_samples = train_test_split(current_sample, test_size=0.1)"
   ]
  },
  {
   "cell_type": "code",
   "execution_count": 9,
   "metadata": {
    "collapsed": true
   },
   "outputs": [],
   "source": [
    "# define two generators that will be fed into the Nvidia pipeline.\n",
    "train_generator = generator(train_samples, batch_size)\n",
    "valid_generator = generator(valid_samples, batch_size)"
   ]
  },
  {
   "cell_type": "markdown",
   "metadata": {},
   "source": [
    "#### Use LeNet Architecture"
   ]
  },
  {
   "cell_type": "code",
   "execution_count": 10,
   "metadata": {},
   "outputs": [
    {
     "name": "stdout",
     "output_type": "stream",
     "text": [
      "_________________________________________________________________\n",
      "Layer (type)                 Output Shape              Param #   \n",
      "=================================================================\n",
      "cropping2d_1 (Cropping2D)    (None, 65, 320, 3)        0         \n",
      "_________________________________________________________________\n",
      "lambda_1 (Lambda)            (None, 65, 320, 3)        0         \n",
      "_________________________________________________________________\n",
      "conv2d_1 (Conv2D)            (None, 61, 316, 16)       1216      \n",
      "_________________________________________________________________\n",
      "max_pooling2d_1 (MaxPooling2 (None, 30, 158, 16)       0         \n",
      "_________________________________________________________________\n",
      "conv2d_2 (Conv2D)            (None, 26, 154, 32)       12832     \n",
      "_________________________________________________________________\n",
      "max_pooling2d_2 (MaxPooling2 (None, 13, 77, 32)        0         \n",
      "_________________________________________________________________\n",
      "flatten_1 (Flatten)          (None, 32032)             0         \n",
      "_________________________________________________________________\n",
      "dense_1 (Dense)              (None, 32)                1025056   \n",
      "_________________________________________________________________\n",
      "activation_1 (Activation)    (None, 32)                0         \n",
      "_________________________________________________________________\n",
      "dropout_1 (Dropout)          (None, 32)                0         \n",
      "_________________________________________________________________\n",
      "dense_2 (Dense)              (None, 1)                 33        \n",
      "=================================================================\n",
      "Total params: 1,039,137\n",
      "Trainable params: 1,039,137\n",
      "Non-trainable params: 0\n",
      "_________________________________________________________________\n"
     ]
    },
    {
     "data": {
      "text/plain": [
       "\"\\n# NVIDIA MODEL\\n\\nmodel = Sequential()\\nmodel.add(Cropping2D(cropping=((reduction_upper,reduction_lower),\\n                               (reduction_left,reduction_right)),input_shape=(height, width, depth)))\\nmodel.add(Lambda(lambda x: (x / 255.0) - 0.5))\\nmodel.add(Convolution2D(24, (5, 5), strides=(2, 2), activation='relu'))\\nmodel.add(Convolution2D(36, (5, 5), strides=(2, 2), activation='relu'))\\nmodel.add(Convolution2D(48, (5, 5), strides=(2, 2), activation='relu'))\\nmodel.add(Convolution2D(64, (3, 3), activation='relu'))\\nmodel.add(Convolution2D(64, (3, 3), activation='relu'))\\nmodel.add(Dropout(0.25))\\nmodel.add(Flatten())\\nmodel.add(Dense(100, activation='relu'))\\nmodel.add(Dropout(0.25))\\nmodel.add(Dense(50, activation='relu'))\\nmodel.add(Dropout(0.25))\\nmodel.add(Dense(10, activation='relu'))\\nmodel.add(Dropout(0.25))\\nmodel.add(Dense(1, activation='tanh'))\\nmodel.compile(loss='mse', optimizer=Adam(lr=0.0001),metrics=['accuracy'])\\nmodel.summary()\\n\\n\""
      ]
     },
     "execution_count": 10,
     "metadata": {},
     "output_type": "execute_result"
    }
   ],
   "source": [
    "model = Sequential()\n",
    "model.add(Cropping2D(cropping=((reduction_upper,reduction_lower),\n",
    "                               (reduction_left,reduction_right)),input_shape=(height, width, depth)))\n",
    "model.add(Lambda(lambda x: (x / 255.0) - 0.5))\n",
    "model.add(Convolution2D(16, (5, 5), strides=(1, 1), activation='relu'))\n",
    "model.add(MaxPooling2D((2, 2)))\n",
    "model.add(Convolution2D(32, (5, 5), strides=(1, 1), activation='relu'))\n",
    "model.add(MaxPooling2D((2, 2)))\n",
    "model.add(Flatten())\n",
    "model.add(Dense(32))\n",
    "model.add(Activation('relu'))\n",
    "model.add(Dropout(0.5))\n",
    "model.add(Dense(1))\n",
    "model.compile(loss='mse',optimizer=Adam(lr = 0.0001),metrics=['mean_absolute_error'])\n",
    "model.summary()\n",
    "\n",
    "\n",
    "'''\n",
    "# NVIDIA MODEL\n",
    "\n",
    "model = Sequential()\n",
    "model.add(Cropping2D(cropping=((reduction_upper,reduction_lower),\n",
    "                               (reduction_left,reduction_right)),input_shape=(height, width, depth)))\n",
    "model.add(Lambda(lambda x: (x / 255.0) - 0.5))\n",
    "model.add(Convolution2D(24, (5, 5), strides=(2, 2), activation='relu'))\n",
    "model.add(Convolution2D(36, (5, 5), strides=(2, 2), activation='relu'))\n",
    "model.add(Convolution2D(48, (5, 5), strides=(2, 2), activation='relu'))\n",
    "model.add(Convolution2D(64, (3, 3), activation='relu'))\n",
    "model.add(Convolution2D(64, (3, 3), activation='relu'))\n",
    "model.add(Dropout(0.25))\n",
    "model.add(Flatten())\n",
    "model.add(Dense(100, activation='relu'))\n",
    "model.add(Dropout(0.25))\n",
    "model.add(Dense(50, activation='relu'))\n",
    "model.add(Dropout(0.25))\n",
    "model.add(Dense(10, activation='relu'))\n",
    "model.add(Dropout(0.25))\n",
    "model.add(Dense(1, activation='tanh'))\n",
    "model.compile(loss='mse', optimizer=Adam(lr=0.0001),metrics=['accuracy'])\n",
    "model.summary()\n",
    "\n",
    "'''\n"
   ]
  },
  {
   "cell_type": "markdown",
   "metadata": {},
   "source": [
    "#### Creating a checkpoint"
   ]
  },
  {
   "cell_type": "code",
   "execution_count": 11,
   "metadata": {
    "collapsed": true
   },
   "outputs": [],
   "source": [
    "checkpointer = ModelCheckpoint(\n",
    "                                    filepath= 'checkpoints/model{epoch:02d}.h5', \n",
    "                                    verbose=1, \n",
    "                                    save_best_only=False,\n",
    "                                    save_weights_only=False,\n",
    "                                    mode = 'auto'\n",
    "                               \n",
    "                              )"
   ]
  },
  {
   "cell_type": "code",
   "execution_count": 12,
   "metadata": {},
   "outputs": [
    {
     "name": "stdout",
     "output_type": "stream",
     "text": [
      "Epoch 1/20\n",
      "2167/2167 [==============================] - 571s - loss: 0.0520 - mean_absolute_error: 0.1684 - val_loss: 0.0390 - val_mean_absolute_error: 0.1460\n",
      "Epoch 2/20\n",
      "2167/2167 [==============================] - 537s - loss: 0.0434 - mean_absolute_error: 0.1537 - val_loss: 0.0359 - val_mean_absolute_error: 0.1385\n",
      "Epoch 3/20\n",
      "2167/2167 [==============================] - 538s - loss: 0.0409 - mean_absolute_error: 0.1490 - val_loss: 0.0352 - val_mean_absolute_error: 0.1378\n",
      "Epoch 4/20\n",
      "2167/2167 [==============================] - 538s - loss: 0.0391 - mean_absolute_error: 0.1454 - val_loss: 0.0342 - val_mean_absolute_error: 0.1352\n",
      "Epoch 5/20\n",
      "2167/2167 [==============================] - 536s - loss: 0.0378 - mean_absolute_error: 0.1429 - val_loss: 0.0333 - val_mean_absolute_error: 0.1332\n",
      "Epoch 6/20\n",
      "2167/2167 [==============================] - 538s - loss: 0.0365 - mean_absolute_error: 0.1402 - val_loss: 0.0330 - val_mean_absolute_error: 0.1329\n",
      "Epoch 7/20\n",
      "2167/2167 [==============================] - 539s - loss: 0.0355 - mean_absolute_error: 0.1383 - val_loss: 0.0325 - val_mean_absolute_error: 0.1312\n",
      "Epoch 8/20\n",
      "2167/2167 [==============================] - 536s - loss: 0.0347 - mean_absolute_error: 0.1366 - val_loss: 0.0315 - val_mean_absolute_error: 0.1274\n",
      "Epoch 9/20\n",
      "2167/2167 [==============================] - 537s - loss: 0.0341 - mean_absolute_error: 0.1352 - val_loss: 0.0311 - val_mean_absolute_error: 0.1274\n",
      "Epoch 10/20\n",
      "2167/2167 [==============================] - 538s - loss: 0.0334 - mean_absolute_error: 0.1339 - val_loss: 0.0307 - val_mean_absolute_error: 0.1261\n",
      "Epoch 11/20\n",
      "2167/2167 [==============================] - 537s - loss: 0.0328 - mean_absolute_error: 0.1329 - val_loss: 0.0308 - val_mean_absolute_error: 0.1277\n",
      "Epoch 12/20\n",
      "2167/2167 [==============================] - 538s - loss: 0.0324 - mean_absolute_error: 0.1320 - val_loss: 0.0301 - val_mean_absolute_error: 0.1248\n",
      "Epoch 13/20\n",
      "2167/2167 [==============================] - 539s - loss: 0.0318 - mean_absolute_error: 0.1310 - val_loss: 0.0304 - val_mean_absolute_error: 0.1265\n",
      "Epoch 14/20\n",
      "2167/2167 [==============================] - 537s - loss: 0.0314 - mean_absolute_error: 0.1302 - val_loss: 0.0306 - val_mean_absolute_error: 0.1272\n",
      "Epoch 15/20\n",
      "2167/2167 [==============================] - 537s - loss: 0.0309 - mean_absolute_error: 0.1291 - val_loss: 0.0300 - val_mean_absolute_error: 0.1253\n",
      "Epoch 16/20\n",
      "2167/2167 [==============================] - 538s - loss: 0.0306 - mean_absolute_error: 0.1286 - val_loss: 0.0297 - val_mean_absolute_error: 0.1243\n",
      "Epoch 17/20\n",
      "2167/2167 [==============================] - 537s - loss: 0.0303 - mean_absolute_error: 0.1278 - val_loss: 0.0296 - val_mean_absolute_error: 0.1242\n",
      "Epoch 18/20\n",
      "2167/2167 [==============================] - 536s - loss: 0.0300 - mean_absolute_error: 0.1272 - val_loss: 0.0304 - val_mean_absolute_error: 0.1264\n",
      "Epoch 19/20\n",
      "2167/2167 [==============================] - 538s - loss: 0.0294 - mean_absolute_error: 0.1260 - val_loss: 0.0294 - val_mean_absolute_error: 0.1238\n",
      "Epoch 20/20\n",
      "2167/2167 [==============================] - 538s - loss: 0.0292 - mean_absolute_error: 0.1256 - val_loss: 0.0299 - val_mean_absolute_error: 0.1252\n",
      "Congratulations! Training completed successfully!\n",
      "Model saved successfully!\n"
     ]
    }
   ],
   "source": [
    "# starting the training process \n",
    "history_object = model.fit_generator(\n",
    "                                            generator = train_generator, \n",
    "                                            steps_per_epoch=len(train_samples)/batch_size,\n",
    "                                            epochs = epochs,\n",
    "                                            verbose = 1,\n",
    "                                            validation_data=valid_generator,\n",
    "                                            validation_steps =len(valid_samples)/batch_size,\n",
    "                                                                           \n",
    "                                    )\n",
    "\n",
    "print('Congratulations! Training completed successfully!')\n",
    "model.save('model_LeNet_two.h5')\n",
    "print('Model saved successfully!')"
   ]
  },
  {
   "cell_type": "code",
   "execution_count": 13,
   "metadata": {},
   "outputs": [
    {
     "name": "stdout",
     "output_type": "stream",
     "text": [
      "dict_keys(['val_mean_absolute_error', 'val_loss', 'mean_absolute_error', 'loss'])\n"
     ]
    },
    {
     "data": {
      "image/png": "[encoded data removed]",
      "text/plain": [
       "<matplotlib.figure.Figure at 0x2a4e5f3dba8>"
      ]
     },
     "metadata": {},
     "output_type": "display_data"
    }
   ],
   "source": [
    "\n",
    "print(history_object.history.keys())\n",
    "\n",
    "### plot the training and validation loss for each epoch\n",
    "plt.plot(history_object.history['loss'])\n",
    "plt.plot(history_object.history['val_loss'])\n",
    "plt.title('model mean squared error loss')\n",
    "plt.ylabel('mean squared error loss')\n",
    "plt.xlabel('epoch')\n",
    "plt.legend(['training set', 'validation set'], loc='upper right')\n",
    "plt.show()\n"
   ]
  },
  {
   "cell_type": "code",
   "execution_count": null,
   "metadata": {
    "collapsed": true
   },
   "outputs": [],
   "source": []
  }
 ],
 "metadata": {
  "anaconda-cloud": {},
  "kernelspec": {
   "display_name": "Python [default]",
   "language": "python",
   "name": "python3"
  },
  "language_info": {
   "codemirror_mode": {
    "name": "ipython",
    "version": 3
   },
   "file_extension": ".py",
   "mimetype": "text/x-python",
   "name": "python",
   "nbconvert_exporter": "python",
   "pygments_lexer": "ipython3",
   "version": "3.5.3"
  },
  "widgets": {
   "state": {},
   "version": "1.1.2"
  }
 },
 "nbformat": 4,
 "nbformat_minor": 1
}
