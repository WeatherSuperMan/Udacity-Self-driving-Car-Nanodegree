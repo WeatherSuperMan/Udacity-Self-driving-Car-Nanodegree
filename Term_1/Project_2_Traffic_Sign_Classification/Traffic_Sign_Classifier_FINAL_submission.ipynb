{
 "cells": [
  {
   "cell_type": "markdown",
   "metadata": {},
   "source": [
    "# Self-Driving Car Engineer Nanodegree\n",
    "\n",
    "## Deep Learning\n",
    "\n",
    "## Project: Build a Traffic Sign Recognition Classifier\n"
   ]
  },
  {
   "cell_type": "markdown",
   "metadata": {},
   "source": [
    "### MY Testing Environments\n",
    "\n",
    "1) CPU:   Intel Core i7-7700K (4.6Ghz OC)   4 CPU CORES, 8 threads\n",
    "\n",
    "2) RAM:   16GB DDR4\n",
    "\n",
    "3) GPU:   nVidia GeForce GTX 970 4GB GGDR5\n",
    "\n",
    "4) OS:    WINDOWS 10 PRO 64bit\n",
    "\n",
    "5) nVidia Software:  Nvidia CUDA and cuDNN V 5.1"
   ]
  },
  {
   "cell_type": "markdown",
   "metadata": {},
   "source": [
    "\n",
    "## Step 0: Load The Data"
   ]
  },
  {
   "cell_type": "markdown",
   "metadata": {},
   "source": [
    "#### import all necessary libraries in one go"
   ]
  },
  {
   "cell_type": "code",
   "execution_count": 1,
   "metadata": {
    "collapsed": true
   },
   "outputs": [],
   "source": [
    "# Imports all libraries required\n",
    "import os\n",
    "import cv2\n",
    "import csv\n",
    "import time\n",
    "import pickle\n",
    "import numpy as np\n",
    "import pandas as pd\n",
    "import seaborn as sns\n",
    "import tensorflow as tf\n",
    "import matplotlib.pyplot as plt\n",
    "import matplotlib.image as mpimg\n",
    "\n",
    "from PIL import Image\n",
    "from pylab import rcParams\n",
    "from skimage import transform\n",
    "from sklearn.utils import shuffle\n",
    "from sklearn import preprocessing\n",
    "from sklearn.metrics import confusion_matrix\n",
    "from tensorflow.contrib.layers import flatten\n",
    "from sklearn.preprocessing import OneHotEncoder\n",
    "from sklearn.model_selection import train_test_split\n",
    "%matplotlib inline\n"
   ]
  },
  {
   "cell_type": "markdown",
   "metadata": {},
   "source": [
    "#### some unexpected errors are present"
   ]
  },
  {
   "cell_type": "code",
   "execution_count": 2,
   "metadata": {
    "collapsed": true
   },
   "outputs": [],
   "source": [
    "# Imports all libraries required\n",
    "import os\n",
    "import cv2\n",
    "import csv\n",
    "import time\n",
    "import pickle\n",
    "import numpy as np\n",
    "import pandas as pd\n",
    "import seaborn as sns\n",
    "import tensorflow as tf\n",
    "import matplotlib.pyplot as plt\n",
    "import matplotlib.image as mpimg\n",
    "\n",
    "from PIL import Image\n",
    "from pylab import rcParams\n",
    "from skimage import transform\n",
    "from sklearn.utils import shuffle\n",
    "from sklearn import preprocessing\n",
    "from sklearn.metrics import confusion_matrix\n",
    "from tensorflow.contrib.layers import flatten\n",
    "from sklearn.preprocessing import OneHotEncoder\n",
    "from sklearn.model_selection import train_test_split\n",
    "%matplotlib inline"
   ]
  },
  {
   "cell_type": "markdown",
   "metadata": {},
   "source": [
    "#### executing the same codes again removes the errors, not sure why!!"
   ]
  },
  {
   "cell_type": "markdown",
   "metadata": {},
   "source": [
    "#### Loading pickled data as instructed in the TEMPLATE Jupyter Notebook"
   ]
  },
  {
   "cell_type": "code",
   "execution_count": 3,
   "metadata": {
    "collapsed": true
   },
   "outputs": [],
   "source": [
    "# Load pickled data\n",
    "\n",
    "training_file = 'train.p'\n",
    "validating_file = 'valid.p'\n",
    "testing_file = 'test.p'\n",
    "\n",
    "with open(training_file, mode='rb') as f:train = pickle.load(f)\n",
    "with open(validating_file, mode='rb')  as f:valid = pickle.load(f)  \n",
    "with open(testing_file, mode='rb')  as f:test = pickle.load(f)\n",
    "  \n",
    "    \n",
    "X_train, y_train = train['features'], train['labels']\n",
    "X_valid, y_valid = valid['features'], valid['labels']\n",
    "X_test, y_test = test['features'], test['labels']"
   ]
  },
  {
   "cell_type": "markdown",
   "metadata": {},
   "source": [
    "---\n",
    "\n",
    "## Step 1: Dataset Summary & Exploration\n",
    "\n",
    "The pickled data is a dictionary with 4 key/value pairs:\n",
    "\n",
    "- `'features'` is a 4D array containing raw pixel data of the traffic sign images, (num examples, width, height, channels).\n",
    "- `'labels'` is a 2D array containing the label/class id of the traffic sign. The file `signnames.csv` contains id -> name mappings for each id.\n",
    "- `'sizes'` is a list containing tuples, (width, height) representing the the original width and height the image.\n",
    "- `'coords'` is a list containing tuples, (x1, y1, x2, y2) representing coordinates of a bounding box around the sign in the image. **THESE COORDINATES ASSUME THE ORIGINAL IMAGE. THE PICKLED DATA CONTAINS RESIZED VERSIONS (32 by 32) OF THESE IMAGES**\n",
    "\n",
    "Complete the basic data summary below."
   ]
  },
  {
   "cell_type": "code",
   "execution_count": 4,
   "metadata": {},
   "outputs": [
    {
     "name": "stdout",
     "output_type": "stream",
     "text": [
      "Number of training examples = 34799\n",
      "Number of validating examples = 4410\n",
      "Number of testing examples = 12630\n",
      "Image data shape = (32, 32, 3)\n",
      "Number of classes = 43\n"
     ]
    }
   ],
   "source": [
    "### Replace each question mark with the appropriate value.\n",
    "\n",
    "# TODO: Number of training examples\n",
    "n_train = len(X_train)\n",
    "\n",
    "n_valid = len(X_valid)\n",
    "\n",
    "# TODO: Number of testing examples.\n",
    "n_test = len(X_test)\n",
    "\n",
    "# TODO: What's the shape of an traffic sign image?\n",
    "image_shape = X_train[0].shape\n",
    "\n",
    "# TODO: How many unique classes/labels there are in the dataset.\n",
    "n_classes = len(set(y_train))\n",
    "\n",
    "print(\"Number of training examples =\", n_train)\n",
    "print(\"Number of validating examples =\", n_valid)\n",
    "print(\"Number of testing examples =\", n_test)\n",
    "print(\"Image data shape =\", image_shape)\n",
    "print(\"Number of classes =\", n_classes)"
   ]
  },
  {
   "cell_type": "markdown",
   "metadata": {},
   "source": [
    "Visualize the German Traffic Signs Dataset using the pickled file(s). This is open ended, suggestions include: plotting traffic sign images, plotting the count of each sign, etc.\n",
    "\n",
    "The [Matplotlib](http://matplotlib.org/) [examples](http://matplotlib.org/examples/index.html) and [gallery](http://matplotlib.org/gallery.html) pages are a great resource for doing visualizations in Python.\n",
    "\n",
    "**NOTE:** It's recommended you start with something simple first. If you wish to do more, come back to it after you've completed the rest of the sections."
   ]
  },
  {
   "cell_type": "markdown",
   "metadata": {},
   "source": [
    "#### Display randomly 10 images from the training set."
   ]
  },
  {
   "cell_type": "code",
   "execution_count": 5,
   "metadata": {},
   "outputs": [
    {
     "data": {
      "image/png": "[encoded data removed]",
      "text/plain": [
       "<matplotlib.figure.Figure at 0x26bdae32ef0>"
      ]
     },
     "metadata": {},
     "output_type": "display_data"
    }
   ],
   "source": [
    "### Data exploration visualization\n",
    "fig = plt.figure(figsize=(15, 5))\n",
    "\n",
    "image_seq = np.random.randint(1,len(X_train),10)\n",
    "\n",
    "# Load image labels from csv\n",
    "label_csv = csv.reader(open('signnames.csv', 'r'))\n",
    "label_names = []\n",
    "for row in label_csv:\n",
    "    label_names.append(row[1])\n",
    "label_names.pop(0)\n",
    "\n",
    "for ind,val in enumerate(image_seq):\n",
    "    img = fig.add_subplot(2,5,ind+1)\n",
    "    plt.imshow(X_train[val-1])\n",
    "    #Add corresponding label\n",
    "    img.set_xlabel(\"{0} ({1})\".format(y_train[val-1], label_names[y_train[val-1]]))\n",
    "    #Remove the axis ticks\n",
    "    img.set_xticks([])\n",
    "    img.set_yticks([])\n",
    "\n",
    "plt.show()"
   ]
  },
  {
   "cell_type": "markdown",
   "metadata": {},
   "source": [
    "#### Create a histogram that depicts the overall dataset distribution for the training set."
   ]
  },
  {
   "cell_type": "code",
   "execution_count": 6,
   "metadata": {},
   "outputs": [
    {
     "data": {
      "image/png": "[encoded data removed]",
      "text/plain": [
       "<matplotlib.figure.Figure at 0x26bda3c7e80>"
      ]
     },
     "metadata": {},
     "output_type": "display_data"
    }
   ],
   "source": [
    "# A= unique   B = counts\n",
    "A, B = np.unique(y_train, return_counts=True)\n",
    "fig = plt.figure(figsize=(15,10))\n",
    "plt.bar(A, B, color='green')   \n",
    "label = [label for label in label_names]\n",
    "plt.xticks(np.arange(0.5,n_classes+0.5), label, rotation=45,ha='right')\n",
    "plt.ylabel('Frequency')\n",
    "plt.title('Training Data Distribution')\n",
    "plt.show()"
   ]
  },
  {
   "cell_type": "markdown",
   "metadata": {},
   "source": [
    "----\n",
    "\n",
    "## Step 2: Design and Test a Model Architecture\n",
    "\n",
    "Design and implement a deep learning model that learns to recognize traffic signs. Train and test your model on the [German Traffic Sign Dataset](http://benchmark.ini.rub.de/?section=gtsrb&subsection=dataset).\n",
    "\n",
    "There are various aspects to consider when thinking about this problem:\n",
    "\n",
    "- Neural network architecture\n",
    "- Play around preprocessing techniques (normalization, rgb to grayscale, etc)\n",
    "- Number of examples per label (some have more than others).\n",
    "- Generate fake data.\n",
    "\n",
    "Here is an example of a [published baseline model on this problem](http://yann.lecun.com/exdb/publis/pdf/sermanet-ijcnn-11.pdf). It's not required to be familiar with the approach used in the paper but, it's good practice to try to read papers like these.\n",
    "\n",
    "**NOTE:** The LeNet-5 implementation shown in the [classroom](https://classroom.udacity.com/nanodegrees/nd013/parts/fbf77062-5703-404e-b60c-95b78b2f3f9e/modules/6df7ae49-c61c-4bb2-a23e-6527e69209ec/lessons/601ae704-1035-4287-8b11-e2c2716217ad/concepts/d4aca031-508f-4e0b-b493-e7b706120f81) at the end of the CNN lesson is a solid starting point. You'll have to change the number of classes and possibly the preprocessing, but aside from that it's plug and play!"
   ]
  },
  {
   "cell_type": "markdown",
   "metadata": {},
   "source": [
    "### Implementation\n",
    "\n",
    "Use the code cell (or multiple code cells, if necessary) to implement the first step of your project. Once you have completed your implementation and are satisfied with the results, be sure to thoroughly answer the questions that follow."
   ]
  },
  {
   "cell_type": "code",
   "execution_count": 7,
   "metadata": {
    "collapsed": true
   },
   "outputs": [],
   "source": [
    "def preprocess(X):\n",
    "       \n",
    "    # Normalize to range 0-1\n",
    "    X = (X - X.mean())/(np.max(X) - np.min(X))\n",
    "    \n",
    "   # grayscale conversion\n",
    "    X = 0.114 * X[...,0] + 0.587 * X[...,1] + 0.299 * X[...,2] # BGR->Gray\n",
    "    return X"
   ]
  },
  {
   "cell_type": "code",
   "execution_count": 8,
   "metadata": {
    "collapsed": true
   },
   "outputs": [],
   "source": [
    "X_train = preprocess(X_train)\n",
    "X_valid = preprocess(X_valid)\n",
    "X_test = preprocess(X_test)"
   ]
  },
  {
   "cell_type": "markdown",
   "metadata": {},
   "source": [
    "### Question 1 \n",
    "\n",
    "_Describe how you preprocessed the data. Why did you choose that technique?_"
   ]
  },
  {
   "cell_type": "markdown",
   "metadata": {},
   "source": [
    "**Answer:**\n",
    "\n",
    "I encapsulate 2 operations within a single 'preprocess' function here.\n",
    "\n",
    "The first operation is normalisation using the simple formula  X = (X - X.mean())/(np.max(X) - np.min(X)), the purpose of normalisation is to help the gradient descent optimizer (Adam Optimizer) to converge faster by restricting the  range of feature values.\n",
    "\n",
    "The 2nd operation is grayscale conversion, which is supposed to be detrimental to the model performance, however, I was at a loss to explain why grayscale conversion turned out to be conducive to the test accuracy at the end. \n"
   ]
  },
  {
   "cell_type": "markdown",
   "metadata": {},
   "source": [
    "### Question 2\n",
    "\n",
    "_Describe how you set up the training, validation and testing data for your model. **Optional**: If you generated additional data, how did you generate the data? Why did you generate the data? What are the differences in the new dataset (with generated data) from the original dataset?_"
   ]
  },
  {
   "cell_type": "markdown",
   "metadata": {},
   "source": [
    "**Answer:**\n",
    "\n",
    "Since I have 3 separate files for training, validation and testing respectively, it makes sense to avoid using training/testing split function here.  train.p is used for training exclusively, valid.p is earmarked for validation during the training process, while the test.p is strictly reserved for testing purpose once the training is completed."
   ]
  },
  {
   "cell_type": "code",
   "execution_count": 9,
   "metadata": {
    "collapsed": true
   },
   "outputs": [],
   "source": [
    "layer_depth = {\n",
    "    'layer_1': 12,\n",
    "    'layer_2': 32,\n",
    "    'fully_connected_1': 512,\n",
    "    'fully_connected_2': 256,\n",
    "    'fully_connected_3': 128,\n",
    "    'out': n_classes,\n",
    "}\n",
    "\n",
    "\n",
    "weights = {\n",
    "   'layer_1': tf.Variable(tf.truncated_normal(\n",
    "        [5, 5, 1, layer_depth['layer_1']], mean=0, stddev=0.1)),\n",
    "    'layer_2': tf.Variable(tf.truncated_normal(\n",
    "        [5, 5, layer_depth['layer_1'], layer_depth['layer_2']], mean=0, stddev=0.1)),\n",
    "    'fully_connected_1': tf.Variable(tf.truncated_normal(\n",
    "        [5*5*layer_depth['layer_2'], layer_depth['fully_connected_1']])),\n",
    "    'fully_connected_2': tf.Variable(tf.truncated_normal(\n",
    "        [layer_depth['fully_connected_1'], layer_depth['fully_connected_2']], mean=0, stddev=0.1)),\n",
    "    'fully_connected_3': tf.Variable(tf.truncated_normal(\n",
    "        [layer_depth['fully_connected_2'], layer_depth['fully_connected_3']], mean=0, stddev=0.1)),\n",
    "    'out': tf.Variable(tf.truncated_normal(\n",
    "        [layer_depth['fully_connected_3'], layer_depth['out']], mean=0, stddev=0.1))\n",
    "}\n",
    "\n",
    "\n",
    "biases = {\n",
    "    'layer_1': tf.Variable(tf.zeros(layer_depth['layer_1'])),\n",
    "    'layer_2': tf.Variable(tf.zeros(layer_depth['layer_2'])),\n",
    "    'fully_connected_1': tf.Variable(tf.zeros(layer_depth['fully_connected_1'])),\n",
    "    'fully_connected_2': tf.Variable(tf.zeros(layer_depth['fully_connected_2'])),\n",
    "    'fully_connected_3': tf.Variable(tf.zeros(layer_depth['fully_connected_3'])),\n",
    "    'out': tf.Variable(tf.zeros(layer_depth['out']))\n",
    "}\n"
   ]
  },
  {
   "cell_type": "code",
   "execution_count": 10,
   "metadata": {
    "collapsed": true
   },
   "outputs": [],
   "source": [
    "# Define 2 more functions\n",
    "def conv2d(x, W, b, strides=1):\n",
    "    x = tf.nn.conv2d(x, W, strides=[1, strides, strides, 1], padding = 'VALID')\n",
    "    x = tf.nn.bias_add(x, b)\n",
    "    return tf.nn.relu(x)\n",
    "\n",
    "def maxpool2d(x, k=2):\n",
    "    return tf.nn.max_pool(x, ksize=[1, k, k, 1],\n",
    "                         strides=[1, k, k, 1],\n",
    "                         padding='VALID')"
   ]
  },
  {
   "cell_type": "code",
   "execution_count": 11,
   "metadata": {
    "collapsed": true
   },
   "outputs": [],
   "source": [
    "# Define Architecture\n",
    "keep_prob = tf.placeholder(tf.float32)\n",
    "def LeNet(x):\n",
    "    \n",
    "    x = tf.expand_dims(x, -1)\n",
    "    conv1 = conv2d(x, weights['layer_1'], biases['layer_1'])\n",
    "    conv1 = tf.nn.relu(conv1)\n",
    "    conv1 = maxpool2d(conv1)\n",
    "   \n",
    "#________________________________________________________________________________________\n",
    " \n",
    "    conv2 = conv2d(conv1, weights['layer_2'], biases['layer_2'])\n",
    "    conv2 = tf.nn.relu(conv2)\n",
    "    conv2 = maxpool2d(conv2)\n",
    "    \n",
    "#________________________________________________________________________________________    \n",
    "   \n",
    "    fc0 = flatten(conv2)\n",
    "    \n",
    "  \n",
    "    fc1 = tf.add(tf.matmul(fc0, weights['fully_connected_1']), biases['fully_connected_1'])\n",
    "    fc1 = tf.nn.relu(fc1)\n",
    "    fc1 = tf.nn.dropout(fc1, keep_prob=keep_prob)\n",
    "   \n",
    "#________________________________________________________________________________________    \n",
    "   \n",
    "    fc2 = tf.add(tf.matmul(fc1, weights['fully_connected_2']), biases['fully_connected_2'])   \n",
    "    fc2 = tf.nn.relu(fc2)\n",
    "    fc2 = tf.nn.dropout(fc2, keep_prob=keep_prob)\n",
    "  \n",
    "#________________________________________________________________________________________    \n",
    "    \n",
    "    fc3 = tf.add(tf.matmul(fc2, weights['fully_connected_3']), biases['fully_connected_3'])   \n",
    "    fc3 = tf.nn.relu(fc3)\n",
    "    fc3 = tf.nn.dropout(fc3, keep_prob=keep_prob)\n",
    "    logits = tf.add(tf.matmul(fc3, weights['out']), biases['out'])\n",
    "    \n",
    "    return logits"
   ]
  },
  {
   "cell_type": "markdown",
   "metadata": {},
   "source": [
    "### Question 3\n",
    "\n",
    "_What does your final architecture look like? (Type of model, layers, sizes, connectivity, etc.)  For reference on how to build a deep neural network using TensorFlow, see [Deep Neural Network in TensorFlow\n",
    "](https://classroom.udacity.com/nanodegrees/nd013/parts/fbf77062-5703-404e-b60c-95b78b2f3f9e/modules/6df7ae49-c61c-4bb2-a23e-6527e69209ec/lessons/b516a270-8600-4f93-a0a3-20dfeabe5da6/concepts/83a3a2a2-a9bd-4b7b-95b0-eb924ab14432) from the classroom._\n"
   ]
  },
  {
   "cell_type": "markdown",
   "metadata": {},
   "source": [
    "**Answer:**\n",
    "\n",
    "The model is based on the LeNet Lab with the different number of Convolution layers and Fully connected layers.\n",
    "I have tried some other configurations such as one with just 2 full connected layers, however, I was unable to record any noticeable performance improvement. \n",
    "\n",
    "Several dropout values were tested from 0.3 all the way to 0.9, 0.6 seemed to fit the bill.\n",
    "\n",
    " Layer 1 : 5x5 Filter with depth 12\n",
    "\n",
    " Layer 2 : 5x5 Filter with depth 32\n",
    "\n",
    "Fully Connected Layer A : n = 512\n",
    " Dropout Layer : Dropout Value = 0.6\n",
    "\n",
    " Fully Connected Layer B : n = 256\n",
    " Dropout Layer : Dropout Value = 0.6\n",
    "\n",
    " Fully Connected Layer C: n = 128\n",
    " Dropout Layer : Dropout Value = 0.6"
   ]
  },
  {
   "cell_type": "code",
   "execution_count": 12,
   "metadata": {
    "collapsed": true
   },
   "outputs": [],
   "source": [
    "saver = tf.train.Saver()\n",
    "\n",
    "# Add placeholder for input and data labels\n",
    "x = tf.placeholder(tf.float32, (None, 32, 32))\n",
    "y = tf.placeholder(tf.int32, (None))\n",
    "one_hot_y = tf.one_hot(y, n_classes)"
   ]
  },
  {
   "cell_type": "code",
   "execution_count": 13,
   "metadata": {
    "collapsed": true
   },
   "outputs": [],
   "source": [
    "learning_rate = 0.0005\n",
    "\n",
    "logits = LeNet(x)\n",
    "cross_entropy = tf.nn.softmax_cross_entropy_with_logits(logits=logits, labels=one_hot_y)\n",
    "loss_operation = tf.reduce_mean(cross_entropy)\n",
    "optimizer = tf.train.AdamOptimizer(learning_rate=learning_rate)\n",
    "\n",
    "# training Without regulariztaion\n",
    "training_operation = optimizer.minimize(loss_operation)"
   ]
  },
  {
   "cell_type": "code",
   "execution_count": 14,
   "metadata": {
    "collapsed": true
   },
   "outputs": [],
   "source": [
    "# Evaluation\n",
    "\n",
    "correct_prediction = tf.equal(tf.argmax(logits, 1), tf.argmax(one_hot_y, 1))\n",
    "accuracy_tunning = tf.reduce_mean(tf.cast(correct_prediction, tf.float32))\n",
    "\n",
    "def evaluate(X_data, y_data):\n",
    "    num_examples = len(X_data)\n",
    "    total_accuracy = 0\n",
    "    sess = tf.get_default_session()\n",
    "    for offset in range(0, num_examples, batch_size):\n",
    "        end = offset + batch_size\n",
    "        batch_x, batch_y = X_data[offset:end], y_data[offset:end]\n",
    "        accuracy = sess.run(accuracy_tunning, feed_dict={x: batch_x, y: batch_y, keep_prob: 1})\n",
    "        total_accuracy += (accuracy * len(batch_x))\n",
    "        accuracy = total_accuracy / num_examples\n",
    "    return accuracy"
   ]
  },
  {
   "cell_type": "code",
   "execution_count": null,
   "metadata": {
    "collapsed": true
   },
   "outputs": [],
   "source": [
    "epochs = 100\n",
    "batch_size = 64"
   ]
  },
  {
   "cell_type": "code",
   "execution_count": null,
   "metadata": {},
   "outputs": [
    {
     "name": "stdout",
     "output_type": "stream",
     "text": [
      "Number of training samples: 34799\n",
      "Training in progress......\n",
      "\n",
      "\n",
      "\n",
      "EPOCH 1 ...\n",
      "Validation Accuracy = 48.277%\n",
      "Time taken for the last epoch: 14.126 seconds\n",
      "\n",
      "EPOCH 2 ...\n",
      "Validation Accuracy = 74.785%\n",
      "Time taken for the last epoch: 8.974 seconds\n",
      "\n",
      "EPOCH 3 ...\n",
      "Validation Accuracy = 86.236%\n",
      "Time taken for the last epoch: 8.921 seconds\n",
      "\n",
      "EPOCH 4 ...\n",
      "Validation Accuracy = 88.163%\n",
      "Time taken for the last epoch: 8.977 seconds\n",
      "\n",
      "EPOCH 5 ...\n",
      "Validation Accuracy = 92.018%\n",
      "Time taken for the last epoch: 8.772 seconds\n"
     ]
    }
   ],
   "source": [
    "# Run Training and save model\n",
    "total_time = time.time()\n",
    "\n",
    "with tf.Session() as sess:\n",
    "    sess.run(tf.global_variables_initializer())\n",
    "    num_examples = len(X_train)\n",
    "    \n",
    "    print('Number of training samples: {}'.format(num_examples))\n",
    "    print('Training in progress......\\n\\n')\n",
    "    \n",
    "    for i in range(epochs):\n",
    "        start_time = time.time()\n",
    "        X_train, y_train = shuffle(X_train, y_train)\n",
    "        for offset in range(0, num_examples, batch_size):\n",
    "            end = offset + batch_size\n",
    "            batch_x, batch_y = X_train[offset:end], y_train[offset:end]\n",
    "            sess.run(training_operation, feed_dict={x: batch_x, y: batch_y, keep_prob:0.6})  \n",
    "            \n",
    "        validation_accuracy = evaluate(X_valid, y_valid)\n",
    "        validation_percent = validation_accuracy*100\n",
    "        print(\"\\nEPOCH {} ...\".format(i+1))\n",
    "        print(\"Validation Accuracy = {:.3f}%\".format(validation_percent))\n",
    "        \n",
    "        end_time = time.time() - start_time\n",
    "        print(\"Time taken for the last epoch: %.3f seconds\" %end_time)\n",
    "               \n",
    "    test_accuracy = evaluate(X_test, y_test)\n",
    "    test_percent = test_accuracy*100\n",
    "    print(\"\\n\\n\\nAccuracy compared to test set = {:.3f}%\".format(test_percent))\n",
    "    \n",
    "    final_time = time.time() - total_time\n",
    "    print(\"Total Training: %.3f seconds\" %final_time)\n",
    "        \n",
    "    saver.save(sess, '.\\model')\n",
    "    print('Model successfully Saved to current directory!')\n",
    "\n",
    "  "
   ]
  },
  {
   "cell_type": "code",
   "execution_count": null,
   "metadata": {
    "collapsed": true
   },
   "outputs": [],
   "source": [
    "# roload and test the Model\n",
    "with tf.Session() as sess:\n",
    "    saver.restore(sess, tf.train.latest_checkpoint('.'))\n",
    "    test_accuracy = evaluate(X_test, y_test)\n",
    "    test_percent = test_accuracy*100\n",
    "    print(\"Test Accuracy = {:.3f}%\".format(test_percent))"
   ]
  },
  {
   "cell_type": "markdown",
   "metadata": {},
   "source": [
    "### Question 4\n",
    "\n",
    "_How did you train your model? (Type of optimizer, batch size, epochs, hyperparameters, etc.)_\n"
   ]
  },
  {
   "cell_type": "markdown",
   "metadata": {},
   "source": [
    "**Answer:**\n",
    "\n",
    "The reason why I chose AdamOptimizer is that it is more both quicker and more accurate than a standard stochastic gradient descent optimizer. In addition, I decided to set a relatively large epoch counts of 100 and a small batch size of 64 as I could rely on my powerful nVidia GTX970 GPU to complete the task efficiently. A rather ambitious learning rate of 0.0005 was also chosen. The codes responsible for training is in cell number 19 while preparations for the training took place in cell 14 to 18.\n",
    "\n",
    "At the end of the training, the training model was saved to three files with prefix 'model'.\n",
    "\n",
    "The validation accuracy you observed in the result sheet above referred to the accuracy of the training model when it was compared with the data located in a separate file called 'valid.p'. No training-testing data splitting was required.\n",
    "\n",
    "The test accuracy at the end of the result sheet above referred to the accuracy of the training model when it was compared with the data located in a separate file called 'test.p'\n",
    "\n",
    "The final test accuracy stood between 95% and 96% after several tests, which was quite satisfactory I thought. However, the validation accuracy kinda plateaued at around epoch 10! Which is good to know!\n",
    "\n",
    "\n"
   ]
  },
  {
   "cell_type": "markdown",
   "metadata": {},
   "source": [
    "### Question 5\n",
    "\n",
    "\n",
    "_What approach did you take in coming up with a solution to this problem? It may have been a process of trial and error, in which case, outline the steps you took to get to the final solution and why you chose those steps. Perhaps your solution involved an already well known implementation or architecture. In this case, discuss why you think this is suitable for the current problem._"
   ]
  },
  {
   "cell_type": "markdown",
   "metadata": {},
   "source": [
    "**Answer:**\n",
    "\n",
    "\n",
    "\n",
    "The Convnet LeNet Lab template in the nanodegree course is a solid convolutional neural network upon which my implementation is largely based. I tried various configurations: 1 conv + 1 FC layers, 1 conv + 2 FC layers, 2 conv + 1 FC layers, 2 conv + 2 FC layers, 3 conv + 2 FC (This one didn't work at all due to dimension errors) and 2 conv + 3 FC layers which was the one I chosen for the final showdown.\n",
    "\n",
    "1 conv + 1 FC, 1 conv + 2 FC and 2 conv + 1 FC all had significantly worse accuracies than 2 conv + 2 FC and 2 conv + 3 FC. \n",
    "\n",
    "The 2 conv + 2 FC layers configuration has a very similar performance to that of the 2 conv + 3 FC layers configuration. In the hindsight, maybe I should've chosen the 2 conv + 2 FC one as GPU would have had less work to do but I just wanted to stretch its muscle a bit, lol.\n",
    "\n",
    "\n"
   ]
  },
  {
   "cell_type": "markdown",
   "metadata": {},
   "source": [
    "---\n",
    "\n",
    "## Step 3: Test a Model on New Images\n",
    "\n",
    "Take several pictures of traffic signs that you find on the web or around you (at least five), and run them through your classifier on your computer to produce example results. The classifier might not recognize some local signs but it could prove interesting nonetheless.\n",
    "\n",
    "You may find `signnames.csv` useful as it contains mappings from the class id (integer) to the actual sign name."
   ]
  },
  {
   "cell_type": "markdown",
   "metadata": {},
   "source": [
    "### Implementation\n",
    "\n",
    "Use the code cell (or multiple code cells, if necessary) to implement the first step of your project. Once you have completed your implementation and are satisfied with the results, be sure to thoroughly answer the questions that follow."
   ]
  },
  {
   "cell_type": "markdown",
   "metadata": {},
   "source": [
    "####  Testing on  German Traffic Signs"
   ]
  },
  {
   "cell_type": "code",
   "execution_count": null,
   "metadata": {
    "collapsed": true
   },
   "outputs": [],
   "source": [
    "# load up new test images\n",
    "\n",
    "df = pd.read_csv('signnames.csv')\n",
    "import glob\n",
    "images_resized = []\n",
    "images = []\n",
    "for j in glob.glob('./extra_German_sign/*.jpg'):\n",
    "    image = plt.imread(j)\n",
    "    image_resized = cv2.resize(image, (32, 32), interpolation=cv2.INTER_AREA)\n",
    "    images_resized.append(image_resized)\n",
    "    image_preprocessed = preprocess(image_resized)\n",
    "    images.append(image_preprocessed[np.newaxis,...])\n",
    "images = np.vstack(images)"
   ]
  },
  {
   "cell_type": "code",
   "execution_count": null,
   "metadata": {
    "collapsed": true
   },
   "outputs": [],
   "source": [
    "with tf.Session() as sess:\n",
    "   \n",
    "    new_saver = tf.train.import_meta_graph('model.meta')\n",
    "    new_saver.restore(sess, tf.train.latest_checkpoint('./'))\n",
    "    \n",
    "    out = sess.run(tf.argmax(logits, 1), feed_dict={x: images, keep_prob: 1})"
   ]
  },
  {
   "cell_type": "code",
   "execution_count": null,
   "metadata": {
    "collapsed": true,
    "scrolled": true
   },
   "outputs": [],
   "source": [
    "# Plot Images with prediction\n",
    "new_label_list = [np.argmax(row) for row in out]\n",
    "\n",
    "plt.figure(figsize=(12,12))\n",
    "for i in range(0,images.shape[0]):\n",
    "    with sns.axes_style(\"white\"):\n",
    "        plt.subplot(4, 4, i+1)\n",
    "    plt.imshow(np.squeeze(images_resized[i]), cmap='gray')\n",
    "    plt.tick_params(axis='both', which='both', bottom='on', top='on', labelbottom='off', right='off', left='off', labelleft='off')\n",
    "    plt.xlabel(df.loc[out[i]].SignName)\n",
    "    plt.tight_layout()\n",
    "\n"
   ]
  },
  {
   "cell_type": "markdown",
   "metadata": {},
   "source": [
    "### Question 6\n",
    "\n",
    "_Choose five candidate images of traffic signs and provide them in the report. Are there any particular qualities of the image(s) that might make classification difficult? It could be helpful to plot the images in the notebook._"
   ]
  },
  {
   "cell_type": "markdown",
   "metadata": {},
   "source": [
    "**Answer:**\n",
    "\n",
    "I can think of several problems that can make the life extremely difficult for the model.\n",
    "\n",
    "1) The orientation of the traffic signs.\n",
    "\n",
    "2) The actual clarity of the traffic signs.\n",
    "\n",
    "3) The angles and perspective at which the photos were taken.\n",
    "\n",
    "4) Multiple signs in one image."
   ]
  },
  {
   "cell_type": "markdown",
   "metadata": {},
   "source": [
    "### Question 7\n",
    "\n",
    "_Is your model able to perform equally well on captured pictures when compared to testing on the dataset? The simplest way to do this check the accuracy of the predictions. For example, if the model predicted 1 out of 5 signs correctly, it's 20% accurate._\n",
    "\n",
    "_**NOTE:** You could check the accuracy manually by using `signnames.csv` (same directory). This file has a mapping from the class id (0-42) to the corresponding sign name. So, you could take the class id the model outputs, lookup the name in `signnames.csv` and see if it matches the sign from the image._\n"
   ]
  },
  {
   "cell_type": "markdown",
   "metadata": {},
   "source": [
    "**Answer:**\n",
    "\n",
    "The model correctly guessed the signs in 1st, 8th,12th, 13th,14th(partially) image, giving an accuracy of 5/15 = 33.3%, which is significantly worse than the test accuracy obtained earlier! Please correct me if I'm wrong as I don't drive due to medical conditions."
   ]
  },
  {
   "cell_type": "code",
   "execution_count": null,
   "metadata": {
    "collapsed": true
   },
   "outputs": [],
   "source": [
    "k = 5\n",
    "with tf.Session() as sess:    \n",
    "    new_saver = tf.train.import_meta_graph('model.meta')\n",
    "    new_saver.restore(sess, tf.train.latest_checkpoint('./'))    \n",
    "    out_prob = sess.run(tf.nn.top_k(tf.nn.softmax(logits), k=k), feed_dict={x: images, keep_prob: 1})"
   ]
  },
  {
   "cell_type": "code",
   "execution_count": null,
   "metadata": {
    "collapsed": true
   },
   "outputs": [],
   "source": [
    "plt.rcParams['figure.figsize'] = (15, 30)\n",
    "\n",
    "image_indices = (0,1,2,3,4,5,6,7,8,9,10,11,12,13,14)\n",
    "#image_indices = np.arange(0, len(images_resized))\n",
    "for i, im in enumerate(image_indices):\n",
    "    with sns.axes_style(\"white\"):\n",
    "        plt.subplot(len(image_indices), 2, (2*i)+1)\n",
    "    plt.imshow(np.squeeze(images_resized[im]), cmap='gray')\n",
    "    plt.axis('on')\n",
    "    plt.xlabel(df.loc[out[i]].SignName)\n",
    "    plt.subplot(len(image_indices) ,2, (2*i)+2)\n",
    "    plt.barh(np.arange(k), out_prob.values[im])\n",
    "    plt.yticks(np.arange(k)+0.3, df.loc[out_prob.indices[im]].SignName)\n",
    "    plt.tight_layout()\n",
    "    "
   ]
  },
  {
   "cell_type": "markdown",
   "metadata": {},
   "source": [
    "### Question 8\n",
    "\n",
    "*Use the model's softmax probabilities to visualize the **certainty** of its predictions, [`tf.nn.top_k`](https://www.tensorflow.org/versions/r0.12/api_docs/python/nn.html#top_k) could prove helpful here. Which predictions is the model certain of? Uncertain? If the model was incorrect in its initial prediction, does the correct prediction appear in the top k? (k should be 5 at most)*\n",
    "\n",
    "`tf.nn.top_k` will return the values and indices (class ids) of the top k predictions. So if k=3, for each sign, it'll return the 3 largest probabilities (out of a possible 43) and the correspoding class ids.\n",
    "\n",
    "Take this numpy array as an example:\n",
    "\n",
    "```\n",
    "# (5, 6) array\n",
    "a = np.array([[ 0.24879643,  0.07032244,  0.12641572,  0.34763842,  0.07893497,\n",
    "         0.12789202],\n",
    "       [ 0.28086119,  0.27569815,  0.08594638,  0.0178669 ,  0.18063401,\n",
    "         0.15899337],\n",
    "       [ 0.26076848,  0.23664738,  0.08020603,  0.07001922,  0.1134371 ,\n",
    "         0.23892179],\n",
    "       [ 0.11943333,  0.29198961,  0.02605103,  0.26234032,  0.1351348 ,\n",
    "         0.16505091],\n",
    "       [ 0.09561176,  0.34396535,  0.0643941 ,  0.16240774,  0.24206137,\n",
    "         0.09155967]])\n",
    "```\n",
    "\n",
    "Running it through `sess.run(tf.nn.top_k(tf.constant(a), k=3))` produces:\n",
    "\n",
    "```\n",
    "TopKV2(values=array([[ 0.34763842,  0.24879643,  0.12789202],\n",
    "       [ 0.28086119,  0.27569815,  0.18063401],\n",
    "       [ 0.26076848,  0.23892179,  0.23664738],\n",
    "       [ 0.29198961,  0.26234032,  0.16505091],\n",
    "       [ 0.34396535,  0.24206137,  0.16240774]]), indices=array([[3, 0, 5],\n",
    "       [0, 1, 4],\n",
    "       [0, 5, 1],\n",
    "       [1, 3, 5],\n",
    "       [1, 4, 3]], dtype=int32))\n",
    "```\n",
    "\n",
    "Looking just at the first row we get `[ 0.34763842,  0.24879643,  0.12789202]`, you can confirm these are the 3 largest probabilities in `a`. You'll also notice `[3, 0, 5]` are the corresponding indices."
   ]
  },
  {
   "cell_type": "markdown",
   "metadata": {},
   "source": [
    "\n",
    "\n",
    "**The model is most certain about the following:**\n",
    "\n",
    "(predicted: bumpy road, actual: bumpy road)  correctly classified\n",
    "\n",
    "(predicted: priority road, actual:slope of gradient of 8%)\n",
    "understandably a very tough sign to classify as not many roads share the same slope. The correct label is NOT in the top 5 most likely classifications.\n",
    "\n",
    "(predicted:Road work, actual:Road work)\n",
    "Correctly classified.\n",
    "\n",
    "\n",
    "(predicted: dangerous curve to the right, actual:motor vehicle prohibited)\n",
    "no idea why the model is so far off.The correct label is NOT in the top 5 most likely classifications.\n",
    "\n",
    "(predicted: End of no passing, actual: diversion) The correct label is NOT in the top 5 most likely classifications.\n",
    "\n",
    "\n",
    "(predicted: no passing, actual: overtaking allowed)\n",
    "grayscale conversion is definitely answerable for the wrong prediction here. The correct label is NOT in the top 5 most likely classifications.\n",
    "\n",
    "\n",
    "\n",
    "(predicted:right-of-way at the next intersection, actual: speed limit of 60km/h) The correct label is NOT in the top 5 most likely classifications.\n",
    "\n",
    "(predicted: speed limit(50km/h), actual: motor vehicle prohibited)\n",
    "This prediction makes absolutely no sense. The correct label is NOT in the top 5 most likely classifications.\n",
    "\n",
    "\n",
    "(predicted: no entry, actual:  no entry) correctly classified\n",
    "\n",
    "\n",
    "(predicted: priority road, actual: priority road)  correctly classified\n",
    "\n",
    "\n",
    "(predicted: road narrow on the right, actual: road narrow on both side) partially correctly classified, The correct label is NOT in the top 5 most likely classifications.\n",
    "\n",
    "(predicted: keep right, actual: 30km/h zone) The correct label is NOT in the top 5 most likely classifications.\n",
    "\n",
    "**The model is most uncertain about:**\n",
    "\n",
    "(predicted:bicyle crossing, actual:wild animal crossing)\n",
    "incorrectly classified, however, the correct label is in the top 5 most likely classifications.\n",
    "\n",
    "(predicted: roundabout mandatory, actual: bicycle crossing)\n",
    "The correct label is NOT in the top 5 most likely classifications.\n",
    "\n",
    "(predicted: speed limits(50km), actual: roundabout mandatory)\n",
    "incorrectly classified, however, the correct label is in the top 5 most likely classifications."
   ]
  },
  {
   "cell_type": "markdown",
   "metadata": {},
   "source": [
    "## THANK YOU FOR VIEWING."
   ]
  },
  {
   "cell_type": "markdown",
   "metadata": {},
   "source": [
    "> **Note**: Once you have completed all of the code implementations and successfully answered each question above, you may finalize your work by exporting the iPython Notebook as an HTML document. You can do this by using the menu above and navigating to  \\n\",\n",
    "    \"**File -> Download as -> HTML (.html)**. Include the finished document along with this notebook as your submission."
   ]
  },
  {
   "cell_type": "markdown",
   "metadata": {},
   "source": [
    "## reference: \n",
    "\n",
    "#### https://www.tensorflow.org/\n",
    "#### https://https://github.com/\n",
    "#### https://developer.nvidia.com/\n",
    "\n"
   ]
  },
  {
   "cell_type": "markdown",
   "metadata": {
    "collapsed": true
   },
   "source": [
    "#### graveyard functions (please ignore)"
   ]
  },
  {
   "cell_type": "code",
   "execution_count": null,
   "metadata": {
    "collapsed": true
   },
   "outputs": [],
   "source": [
    "  \n",
    "    '''\n",
    "    plot_loss_accuracy(batches, loss_batch, train_acc_batch, valid_acc_batch)\n",
    "    '''\n",
    "    '''\n",
    "    if not offset % 50:\n",
    "            # Calculate Training and Validation accuracy\n",
    "                training_accuracy = sess.run(accuracy_tunning, feed_dict={x: X_train, \n",
    "                                                                     y: y_train, keep_prob: 0.8 })\n",
    "                validation_accuracy = sess.run(accuracy_tunning, feed_dict={x: X_valid, \n",
    "                                                                       y: y_valid, keep_prob: 1})\n",
    "\n",
    "                # Log batches\n",
    "                previous_batch = batches[-1] if batches else 0\n",
    "                batches.append(50 + previous_batch)\n",
    "                loss_batch.append(c)\n",
    "                train_acc_batch.append(training_accuracy)\n",
    "                valid_acc_batch.append(validation_accuracy)\n",
    " \n",
    "'''           \n",
    "      "
   ]
  }
 ],
 "metadata": {
  "anaconda-cloud": {},
  "kernelspec": {
   "display_name": "Python 3",
   "language": "python",
   "name": "python3"
  },
  "language_info": {
   "codemirror_mode": {
    "name": "ipython",
    "version": 3
   },
   "file_extension": ".py",
   "mimetype": "text/x-python",
   "name": "python",
   "nbconvert_exporter": "python",
   "pygments_lexer": "ipython3",
   "version": "3.5.4"
  },
  "widgets": {
   "state": {},
   "version": "1.1.2"
  }
 },
 "nbformat": 4,
 "nbformat_minor": 1
}
